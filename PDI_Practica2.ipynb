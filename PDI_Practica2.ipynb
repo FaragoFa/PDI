{
  "nbformat": 4,
  "nbformat_minor": 0,
  "metadata": {
    "colab": {
      "provenance": [],
      "authorship_tag": "ABX9TyNLM2uEer3884o658TSBUAv",
      "include_colab_link": true
    },
    "kernelspec": {
      "name": "python3",
      "display_name": "Python 3"
    },
    "language_info": {
      "name": "python"
    }
  },
  "cells": [
    {
      "cell_type": "markdown",
      "metadata": {
        "id": "view-in-github",
        "colab_type": "text"
      },
      "source": [
        "<a href=\"https://colab.research.google.com/github/FaragoFa/PDI/blob/main/PDI_Practica2.ipynb\" target=\"_parent\"><img src=\"https://colab.research.google.com/assets/colab-badge.svg\" alt=\"Open In Colab\"/></a>"
      ]
    },
    {
      "cell_type": "code",
      "execution_count": null,
      "metadata": {
        "id": "4ouKxkkZ54TN"
      },
      "outputs": [],
      "source": []
    },
    {
      "cell_type": "markdown",
      "source": [
        "# ACTIVIDAD PRACTICA 2\n",
        "\n",
        "## 1) Obtener los 3 canales RGB de una imágen, indicando cómo es la matriz en cada caso.\n",
        "## 2) Intercambiar los canales de una imágen (R-->G, G-->B, B-->R)\n",
        "## 3) Convertir una imagen RGB a YIQ\n",
        "###      a) Modificar los canales YIQ.\n",
        "###      b) Volver a convertir la imagen a RGB."
      ],
      "metadata": {
        "id": "besrenow540w"
      }
    }
  ]
}